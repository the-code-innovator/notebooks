{
  "nbformat": 4,
  "nbformat_minor": 0,
  "metadata": {
    "colab": {
      "name": "parkinsons-disease-replicated-acoustic-features",
      "provenance": [],
      "collapsed_sections": [],
      "include_colab_link": true
    },
    "kernelspec": {
      "name": "python3",
      "display_name": "Python 3"
    }
  },
  "cells": [
    {
      "cell_type": "markdown",
      "metadata": {
        "id": "view-in-github",
        "colab_type": "text"
      },
      "source": [
        "<a href=\"https://colab.research.google.com/github/the-code-innovator/notebooks/blob/master/parkinsons_disease_replicated_acoustic_features.ipynb\" target=\"_parent\"><img src=\"https://colab.research.google.com/assets/colab-badge.svg\" alt=\"Open In Colab\"/></a>"
      ]
    },
    {
      "cell_type": "markdown",
      "metadata": {
        "id": "nrV0w6nIeR5Z",
        "colab_type": "text"
      },
      "source": [
        "# Parkinson's Disease Classification with Replicated Acoustic Features\n",
        "\n",
        "* The Dataset is a collection of acoustic features extracted from 3 samples of voice from 80 people of which 40 were tested positive for Parkinson's Disease.\n",
        "- ```\n",
        "80 persons\n",
        "3 voice samples per person\n",
        "80 * 3 = 240 samples in total\n",
        "```\n",
        "\n",
        "## **Abstract**\n",
        "  - Contains acoustic features extracted from 3 voice recording replications of the sustained /a/ phonation for each one of the 80 subjects (40 tested positive).\n",
        "\n",
        "## **Dataset Information**\n",
        "  - **Data Set Characteristics**: Multivariate\n",
        "  - **Number of Instances**: 240\n",
        "  - **Area**: Life\n",
        "  - **Number of Attributes**: 46\n",
        "  - **Associated Tasks**: Classification\n",
        "  - **Date Donated**: 10th April 2019\n",
        "\n",
        "## **Dataset Links**\n",
        "  - [dataset-csv](https://archive.ics.uci.edu/ml/machine-learning-databases/00489/ReplicatedAcousticFeatures-ParkinsonDatabase.csv)\n",
        "  - [dataset-description](https://archive.ics.uci.edu/ml/datasets/Parkinson+Dataset+with+replicated+acoustic+features+)\n",
        "\n",
        "## **Information**\n",
        "  1. Each row can not be used independently, because is one of the three replications of one individual. Nature of data is dependent for each subject, but independent from one to another subject. So, traditional technique from machine learning can not be applied to this dataset, because those techniques are based on the independent nature of the instances. There are 240 instances but for only 80 subjects, so they are not independent. Techniques as those presented in Naranjo et al. (2016), Naranjo et al. (2017) or other specifically designed can be used.\n",
        "  2. The concept of replication considered here does not match the classical concept of statistical repeated measurements. The term 'replications' refers to the collection of features extracted from voice recordings belonging to the same subject. Since, in this context, features are extracted from multiple consecutive voice recordings from the same subject, in principle, the features should be identical. The imperfections in technology and the own biological variability result in non-identical replicated features that are more similar to one another than features from different subjects.\n",
        "  3. All information about how the dataset was generated is presented in Naranjo et al. (2016).\n",
        "  \n",
        "## **Attribute Information**\n",
        "  1. **ID**: Subjects's identifier.\n",
        "  2. **Recording**: Number of the recording.\n",
        "  3. **Status**: 0=Healthy; 1=PD\n",
        "  4. **Gender**: 0=Man; 1=Woman\n",
        "  5. Pitch local perturbation measures: relative jitter (**Jitter_rel**), absolute jitter (**Jitter_abs**), relative average perturbation (**Jitter_RAP**), and pitch perturbation quotient (**Jitter_PPQ**).\n",
        "  6. Amplitude perturbation measures: local shimmer (**Shim_loc**), shimmer in dB (**Shim_dB**), 3-point amplitude perturbation quotient (**Shim_APQ3**), 5-point amplitude perturbation quotient (**Shim_APQ5**), and 11-point amplitude perturbation quotient (**Shim_APQ11**).\n",
        "  7. Harmonic-to-noise ratio measures: harmonic-to-noise ratio in the frequency band 0-500 Hz (**HNR05**), in 0-1500 Hz (**HNR15**), in 0-2500 Hz (**HNR25**), in 0-3500 Hz (**HNR35**), and in 0-3800 Hz (**HNR38**).\n",
        "  8. Mel frequency cepstral coefficient-based spectral measures of order 0 to 12 (**MFCC0, MFCC1,..., MFCC12**) and their derivatives (**Delta0, Delta1,..., Delta12**).\n",
        "  9. Recurrence period density entropy (**RPDE**).\n",
        "  10. Detrended fluctuation analysis (**DFA**).\n",
        "  11. Pitch period entropy (**PPE**).\n",
        "  12. Glottal-to-noise excitation ratio (**GNE**)."
      ]
    },
    {
      "cell_type": "code",
      "metadata": {
        "id": "f_-ka3CRiR0k",
        "colab_type": "code",
        "colab": {}
      },
      "source": [
        "#@title Getting the Dataset from the [dataset-link](https://archive.ics.uci.edu/ml/machine-learning-databases/00489/ReplicatedAcousticFeatures-ParkinsonDatabase.csv).\n",
        "!wget -q https://archive.ics.uci.edu/ml/machine-learning-databases/00489/ReplicatedAcousticFeatures-ParkinsonDatabase.csv"
      ],
      "execution_count": 0,
      "outputs": []
    },
    {
      "cell_type": "code",
      "metadata": {
        "id": "2UqiwH0Jip-V",
        "colab_type": "code",
        "colab": {}
      },
      "source": [
        "#@title Importing the Necessary Libraries.\n",
        "import pandas as pd\n",
        "import matplotlib.pyplot as plt\n",
        "import seaborn as sns\n",
        "\n",
        "from sklearn.decomposition import PCA\n",
        "from sklearn.preprocessing import StandardScaler\n",
        "\n",
        "from sklearn.model_selection import train_test_split\n",
        "\n",
        "from sklearn.ensemble import RandomForestRegressor\n",
        "\n",
        "from sklearn.metrics import confusion_matrix\n",
        "from sklearn.metrics import f1_score\n",
        "from sklearn.metrics import accuracy_score\n",
        "import numpy as np"
      ],
      "execution_count": 0,
      "outputs": []
    },
    {
      "cell_type": "code",
      "metadata": {
        "id": "f444vTnKjYZk",
        "colab_type": "code",
        "colab": {
          "base_uri": "https://localhost:8080/",
          "height": 224
        },
        "outputId": "a042d384-b98b-4d62-eac3-c938d68b9087"
      },
      "source": [
        "#@title Converting the csvdata to a [pandas.DataFrame](https://pandas.pydata.org/pandas-docs/stable/reference/api/pandas.DataFrame.html).\n",
        "dataset = pd.read_csv(\"ReplicatedAcousticFeatures-ParkinsonDatabase.csv\")\n",
        "dataset = dataset.drop('ID',axis=1)\n",
        "x = dataset.drop('Status',axis=1,inplace=False)\n",
        "y = dataset['Status']\n",
        "dataset.head()"
      ],
      "execution_count": 3,
      "outputs": [
        {
          "output_type": "execute_result",
          "data": {
            "text/html": [
              "<div>\n",
              "<style scoped>\n",
              "    .dataframe tbody tr th:only-of-type {\n",
              "        vertical-align: middle;\n",
              "    }\n",
              "\n",
              "    .dataframe tbody tr th {\n",
              "        vertical-align: top;\n",
              "    }\n",
              "\n",
              "    .dataframe thead th {\n",
              "        text-align: right;\n",
              "    }\n",
              "</style>\n",
              "<table border=\"1\" class=\"dataframe\">\n",
              "  <thead>\n",
              "    <tr style=\"text-align: right;\">\n",
              "      <th></th>\n",
              "      <th>Recording</th>\n",
              "      <th>Status</th>\n",
              "      <th>Gender</th>\n",
              "      <th>Jitter_rel</th>\n",
              "      <th>Jitter_abs</th>\n",
              "      <th>Jitter_RAP</th>\n",
              "      <th>Jitter_PPQ</th>\n",
              "      <th>Shim_loc</th>\n",
              "      <th>Shim_dB</th>\n",
              "      <th>Shim_APQ3</th>\n",
              "      <th>Shim_APQ5</th>\n",
              "      <th>Shi_APQ11</th>\n",
              "      <th>HNR05</th>\n",
              "      <th>HNR15</th>\n",
              "      <th>HNR25</th>\n",
              "      <th>HNR35</th>\n",
              "      <th>HNR38</th>\n",
              "      <th>RPDE</th>\n",
              "      <th>DFA</th>\n",
              "      <th>PPE</th>\n",
              "      <th>GNE</th>\n",
              "      <th>MFCC0</th>\n",
              "      <th>MFCC1</th>\n",
              "      <th>MFCC2</th>\n",
              "      <th>MFCC3</th>\n",
              "      <th>MFCC4</th>\n",
              "      <th>MFCC5</th>\n",
              "      <th>MFCC6</th>\n",
              "      <th>MFCC7</th>\n",
              "      <th>MFCC8</th>\n",
              "      <th>MFCC9</th>\n",
              "      <th>MFCC10</th>\n",
              "      <th>MFCC11</th>\n",
              "      <th>MFCC12</th>\n",
              "      <th>Delta0</th>\n",
              "      <th>Delta1</th>\n",
              "      <th>Delta2</th>\n",
              "      <th>Delta3</th>\n",
              "      <th>Delta4</th>\n",
              "      <th>Delta5</th>\n",
              "      <th>Delta6</th>\n",
              "      <th>Delta7</th>\n",
              "      <th>Delta8</th>\n",
              "      <th>Delta9</th>\n",
              "      <th>Delta10</th>\n",
              "      <th>Delta11</th>\n",
              "      <th>Delta12</th>\n",
              "    </tr>\n",
              "  </thead>\n",
              "  <tbody>\n",
              "    <tr>\n",
              "      <th>0</th>\n",
              "      <td>1</td>\n",
              "      <td>0</td>\n",
              "      <td>1</td>\n",
              "      <td>0.25546</td>\n",
              "      <td>0.000015</td>\n",
              "      <td>0.001467</td>\n",
              "      <td>0.001673</td>\n",
              "      <td>0.030256</td>\n",
              "      <td>0.26313</td>\n",
              "      <td>0.017463</td>\n",
              "      <td>0.019660</td>\n",
              "      <td>0.021882</td>\n",
              "      <td>59.437966</td>\n",
              "      <td>60.736249</td>\n",
              "      <td>71.882864</td>\n",
              "      <td>77.626729</td>\n",
              "      <td>77.538042</td>\n",
              "      <td>0.250433</td>\n",
              "      <td>0.599346</td>\n",
              "      <td>0.005397</td>\n",
              "      <td>0.900404</td>\n",
              "      <td>1.319502</td>\n",
              "      <td>1.336201</td>\n",
              "      <td>1.302408</td>\n",
              "      <td>1.329085</td>\n",
              "      <td>1.284922</td>\n",
              "      <td>1.209225</td>\n",
              "      <td>1.239354</td>\n",
              "      <td>1.277002</td>\n",
              "      <td>1.332503</td>\n",
              "      <td>1.347470</td>\n",
              "      <td>1.367540</td>\n",
              "      <td>1.402141</td>\n",
              "      <td>1.393809</td>\n",
              "      <td>1.397874</td>\n",
              "      <td>1.372464</td>\n",
              "      <td>1.390298</td>\n",
              "      <td>1.407701</td>\n",
              "      <td>1.417218</td>\n",
              "      <td>1.380352</td>\n",
              "      <td>1.420670</td>\n",
              "      <td>1.451240</td>\n",
              "      <td>1.440295</td>\n",
              "      <td>1.403678</td>\n",
              "      <td>1.405495</td>\n",
              "      <td>1.416705</td>\n",
              "      <td>1.354610</td>\n",
              "    </tr>\n",
              "    <tr>\n",
              "      <th>1</th>\n",
              "      <td>2</td>\n",
              "      <td>0</td>\n",
              "      <td>1</td>\n",
              "      <td>0.36964</td>\n",
              "      <td>0.000022</td>\n",
              "      <td>0.001932</td>\n",
              "      <td>0.002245</td>\n",
              "      <td>0.023146</td>\n",
              "      <td>0.20217</td>\n",
              "      <td>0.013010</td>\n",
              "      <td>0.014097</td>\n",
              "      <td>0.016828</td>\n",
              "      <td>59.838895</td>\n",
              "      <td>62.655599</td>\n",
              "      <td>74.378669</td>\n",
              "      <td>79.989228</td>\n",
              "      <td>80.269783</td>\n",
              "      <td>0.271445</td>\n",
              "      <td>0.581242</td>\n",
              "      <td>0.075617</td>\n",
              "      <td>0.887042</td>\n",
              "      <td>1.215251</td>\n",
              "      <td>1.221557</td>\n",
              "      <td>1.265419</td>\n",
              "      <td>1.187177</td>\n",
              "      <td>1.256340</td>\n",
              "      <td>1.246375</td>\n",
              "      <td>1.283629</td>\n",
              "      <td>1.302498</td>\n",
              "      <td>1.308008</td>\n",
              "      <td>1.316527</td>\n",
              "      <td>1.370643</td>\n",
              "      <td>1.373966</td>\n",
              "      <td>1.344655</td>\n",
              "      <td>1.302399</td>\n",
              "      <td>1.347680</td>\n",
              "      <td>1.365750</td>\n",
              "      <td>1.331232</td>\n",
              "      <td>1.227338</td>\n",
              "      <td>1.213377</td>\n",
              "      <td>1.352739</td>\n",
              "      <td>1.354242</td>\n",
              "      <td>1.365692</td>\n",
              "      <td>1.322870</td>\n",
              "      <td>1.314549</td>\n",
              "      <td>1.318999</td>\n",
              "      <td>1.323508</td>\n",
              "    </tr>\n",
              "    <tr>\n",
              "      <th>2</th>\n",
              "      <td>3</td>\n",
              "      <td>0</td>\n",
              "      <td>1</td>\n",
              "      <td>0.23514</td>\n",
              "      <td>0.000013</td>\n",
              "      <td>0.001353</td>\n",
              "      <td>0.001546</td>\n",
              "      <td>0.019338</td>\n",
              "      <td>0.16710</td>\n",
              "      <td>0.011049</td>\n",
              "      <td>0.012683</td>\n",
              "      <td>0.013038</td>\n",
              "      <td>57.293808</td>\n",
              "      <td>61.858336</td>\n",
              "      <td>73.665297</td>\n",
              "      <td>78.930502</td>\n",
              "      <td>79.033510</td>\n",
              "      <td>0.203531</td>\n",
              "      <td>0.600759</td>\n",
              "      <td>0.005283</td>\n",
              "      <td>0.889399</td>\n",
              "      <td>1.426075</td>\n",
              "      <td>1.220701</td>\n",
              "      <td>1.344188</td>\n",
              "      <td>1.346296</td>\n",
              "      <td>1.339797</td>\n",
              "      <td>1.334447</td>\n",
              "      <td>1.391798</td>\n",
              "      <td>1.349621</td>\n",
              "      <td>1.349904</td>\n",
              "      <td>1.340463</td>\n",
              "      <td>1.362594</td>\n",
              "      <td>1.313769</td>\n",
              "      <td>1.277938</td>\n",
              "      <td>1.312889</td>\n",
              "      <td>1.352442</td>\n",
              "      <td>1.243385</td>\n",
              "      <td>1.412304</td>\n",
              "      <td>1.324674</td>\n",
              "      <td>1.276088</td>\n",
              "      <td>1.429634</td>\n",
              "      <td>1.455996</td>\n",
              "      <td>1.368882</td>\n",
              "      <td>1.438053</td>\n",
              "      <td>1.388910</td>\n",
              "      <td>1.305469</td>\n",
              "      <td>1.305402</td>\n",
              "    </tr>\n",
              "    <tr>\n",
              "      <th>3</th>\n",
              "      <td>1</td>\n",
              "      <td>0</td>\n",
              "      <td>0</td>\n",
              "      <td>0.29320</td>\n",
              "      <td>0.000017</td>\n",
              "      <td>0.001105</td>\n",
              "      <td>0.001444</td>\n",
              "      <td>0.024716</td>\n",
              "      <td>0.20892</td>\n",
              "      <td>0.014525</td>\n",
              "      <td>0.015696</td>\n",
              "      <td>0.018330</td>\n",
              "      <td>62.179573</td>\n",
              "      <td>68.678205</td>\n",
              "      <td>79.839984</td>\n",
              "      <td>84.367682</td>\n",
              "      <td>84.252430</td>\n",
              "      <td>0.261360</td>\n",
              "      <td>0.625216</td>\n",
              "      <td>0.030518</td>\n",
              "      <td>0.875984</td>\n",
              "      <td>1.495235</td>\n",
              "      <td>1.602983</td>\n",
              "      <td>1.572715</td>\n",
              "      <td>1.498323</td>\n",
              "      <td>1.561722</td>\n",
              "      <td>1.590510</td>\n",
              "      <td>1.626319</td>\n",
              "      <td>1.645811</td>\n",
              "      <td>1.666730</td>\n",
              "      <td>1.618487</td>\n",
              "      <td>1.493691</td>\n",
              "      <td>1.459040</td>\n",
              "      <td>1.383606</td>\n",
              "      <td>1.379629</td>\n",
              "      <td>1.217517</td>\n",
              "      <td>1.309647</td>\n",
              "      <td>1.501200</td>\n",
              "      <td>1.534170</td>\n",
              "      <td>1.323993</td>\n",
              "      <td>1.496442</td>\n",
              "      <td>1.472926</td>\n",
              "      <td>1.643177</td>\n",
              "      <td>1.551286</td>\n",
              "      <td>1.638346</td>\n",
              "      <td>1.604008</td>\n",
              "      <td>1.621456</td>\n",
              "    </tr>\n",
              "    <tr>\n",
              "      <th>4</th>\n",
              "      <td>2</td>\n",
              "      <td>0</td>\n",
              "      <td>0</td>\n",
              "      <td>0.23075</td>\n",
              "      <td>0.000015</td>\n",
              "      <td>0.001073</td>\n",
              "      <td>0.001404</td>\n",
              "      <td>0.013119</td>\n",
              "      <td>0.11607</td>\n",
              "      <td>0.006461</td>\n",
              "      <td>0.008385</td>\n",
              "      <td>0.011037</td>\n",
              "      <td>67.534024</td>\n",
              "      <td>74.976858</td>\n",
              "      <td>85.727420</td>\n",
              "      <td>91.033967</td>\n",
              "      <td>91.145189</td>\n",
              "      <td>0.222069</td>\n",
              "      <td>0.602493</td>\n",
              "      <td>0.035602</td>\n",
              "      <td>0.902206</td>\n",
              "      <td>1.516959</td>\n",
              "      <td>1.581687</td>\n",
              "      <td>1.542668</td>\n",
              "      <td>1.613747</td>\n",
              "      <td>1.501956</td>\n",
              "      <td>1.258557</td>\n",
              "      <td>1.385013</td>\n",
              "      <td>1.452518</td>\n",
              "      <td>1.498049</td>\n",
              "      <td>1.421549</td>\n",
              "      <td>1.557644</td>\n",
              "      <td>1.187218</td>\n",
              "      <td>1.576015</td>\n",
              "      <td>1.252247</td>\n",
              "      <td>1.577338</td>\n",
              "      <td>1.583072</td>\n",
              "      <td>1.508468</td>\n",
              "      <td>1.334511</td>\n",
              "      <td>1.610694</td>\n",
              "      <td>1.685021</td>\n",
              "      <td>1.417614</td>\n",
              "      <td>1.574895</td>\n",
              "      <td>1.640088</td>\n",
              "      <td>1.533666</td>\n",
              "      <td>1.297536</td>\n",
              "      <td>1.382023</td>\n",
              "    </tr>\n",
              "  </tbody>\n",
              "</table>\n",
              "</div>"
            ],
            "text/plain": [
              "   Recording  Status  Gender  ...   Delta10   Delta11   Delta12\n",
              "0          1       0       1  ...  1.405495  1.416705  1.354610\n",
              "1          2       0       1  ...  1.314549  1.318999  1.323508\n",
              "2          3       0       1  ...  1.388910  1.305469  1.305402\n",
              "3          1       0       0  ...  1.638346  1.604008  1.621456\n",
              "4          2       0       0  ...  1.533666  1.297536  1.382023\n",
              "\n",
              "[5 rows x 47 columns]"
            ]
          },
          "metadata": {
            "tags": []
          },
          "execution_count": 3
        }
      ]
    },
    {
      "cell_type": "code",
      "metadata": {
        "id": "oFaVQaSc8kt_",
        "colab_type": "code",
        "colab": {
          "base_uri": "https://localhost:8080/",
          "height": 672
        },
        "outputId": "aefde8d9-e286-456c-9ebd-12e350de0e64"
      },
      "source": [
        "#@title Plotting a Correlation HeatMap for the Attributes in the Dataset.\n",
        "%matplotlib inline\n",
        "corrMatrix = dataset.corr()\n",
        "fig, ax = plt.subplots(figsize=(10,10))\n",
        "hm = sns.heatmap(dataset.corr(),xticklabels=True, yticklabels=True,linewidths=1)\n",
        "hm.set_title(\"Heat Map\")"
      ],
      "execution_count": 4,
      "outputs": [
        {
          "output_type": "execute_result",
          "data": {
            "text/plain": [
              "Text(0.5, 1.0, 'Heat Map')"
            ]
          },
          "metadata": {
            "tags": []
          },
          "execution_count": 4
        },
        {
          "output_type": "display_data",
          "data": {
            "image/png": "[encoded data removed]",
            "text/plain": [
              "<Figure size 720x720 with 2 Axes>"
            ]
          },
          "metadata": {
            "tags": []
          }
        }
      ]
    },
    {
      "cell_type": "code",
      "metadata": {
        "id": "rl5FiFwL9Luf",
        "colab_type": "code",
        "colab": {
          "base_uri": "https://localhost:8080/",
          "height": 298
        },
        "outputId": "ebe24890-47d6-431d-cdd4-e9a554dea95c"
      },
      "source": [
        "#@title Performing Principal Component Analysis for the given Dataset.\n",
        "scaler=StandardScaler()\n",
        "x = scaler.fit_transform(x)\n",
        "\n",
        "components = 10\n",
        "pca = PCA(n_components=components)\n",
        "principalComponents = pca.fit_transform(x)\n",
        "x = pd.DataFrame(data = principalComponents, columns = [\"pc\"+str(i) for i in range(components)])\n",
        "\n",
        "ax = sns.barplot( x=[\"pc\"+str(i) for i in range(components)],y=pca.explained_variance_)\n",
        "ax.set_title(\"PCA\")"
      ],
      "execution_count": 5,
      "outputs": [
        {
          "output_type": "execute_result",
          "data": {
            "text/plain": [
              "Text(0.5, 1.0, 'PCA')"
            ]
          },
          "metadata": {
            "tags": []
          },
          "execution_count": 5
        },
        {
          "output_type": "display_data",
          "data": {
            "image/png": "[encoded data removed]",
            "text/plain": [
              "<Figure size 432x288 with 1 Axes>"
            ]
          },
          "metadata": {
            "tags": []
          }
        }
      ]
    },
    {
      "cell_type": "code",
      "metadata": {
        "id": "oG-csGVG902O",
        "colab_type": "code",
        "colab": {}
      },
      "source": [
        "#@title Performing Train Test Split with 80-20.\n",
        "X_train, X_test, y_train, y_test = train_test_split(x, y, test_size=0.2, random_state=30)"
      ],
      "execution_count": 0,
      "outputs": []
    },
    {
      "cell_type": "code",
      "metadata": {
        "id": "nyNkXQ9oCAA_",
        "colab_type": "code",
        "colab": {
          "base_uri": "https://localhost:8080/",
          "height": 85
        },
        "outputId": "aca6d7f6-16d7-4fbe-d5d1-3730fd2058e7"
      },
      "source": [
        "#@title Random Forest Regression\n",
        "rf = RandomForestRegressor(n_estimators = 1500, random_state = 42)\n",
        "rf.fit(X_train, y_train)\n",
        "y_pred = np.round(rf.predict(X_test))\n",
        "\n",
        "macro = f1_score(y_test, y_pred, average='macro')\n",
        "micro = f1_score(y_test, y_pred, average='micro')\n",
        "weighted = f1_score(y_test, y_pred, average='weighted')\n",
        "print(\"Micro: \", micro)\n",
        "print(\"Macro: \", macro)\n",
        "print(\"Weighted: \", weighted)\n",
        "print(\"Accuracy: \", accuracy_score(y_test, y_pred))"
      ],
      "execution_count": 7,
      "outputs": [
        {
          "output_type": "stream",
          "text": [
            "Micro:  0.8541666666666666\n",
            "Macro:  0.8541033434650456\n",
            "Weighted:  0.8541033434650457\n",
            "Accuracy:  0.8541666666666666\n"
          ],
          "name": "stdout"
        }
      ]
    },
    {
      "cell_type": "code",
      "metadata": {
        "id": "TV9xJ1eH-T9P",
        "colab_type": "code",
        "colab": {
          "base_uri": "https://localhost:8080/",
          "height": 312
        },
        "outputId": "6608ef37-7dfa-4ff0-c331-030ba288eaa4"
      },
      "source": [
        "#@title Confusion Matrix for the Random Forest Regressor.\n",
        "cm = confusion_matrix(y_test, y_pred)\n",
        "ax= plt.subplot()\n",
        "sns.heatmap(cm, annot=True, ax = ax)\n",
        "ax.set_title(\"Random Forest CF\")\n",
        "ax.set_xlabel('Predicted labels')\n",
        "ax.set_ylabel('True labels')\n",
        "ax.set_title('Confusion Matrix')\n",
        "ax.xaxis.set_ticklabels(['Yes', 'No']); ax.yaxis.set_ticklabels(['Yes', 'No'])"
      ],
      "execution_count": 8,
      "outputs": [
        {
          "output_type": "execute_result",
          "data": {
            "text/plain": [
              "[Text(0, 0.5, 'Yes'), Text(0, 1.5, 'No')]"
            ]
          },
          "metadata": {
            "tags": []
          },
          "execution_count": 8
        },
        {
          "output_type": "display_data",
          "data": {
            "image/png": "[encoded data removed]",
            "text/plain": [
              "<Figure size 432x288 with 2 Axes>"
            ]
          },
          "metadata": {
            "tags": []
          }
        }
      ]
    },
    {
      "cell_type": "markdown",
      "metadata": {
        "id": "7KfYTulO_uMP",
        "colab_type": "text"
      },
      "source": [
        "Accuracy of the Model used: **0.854167**\n",
        "\n",
        "***~ 85.42% accuracy***"
      ]
    }
  ]
}