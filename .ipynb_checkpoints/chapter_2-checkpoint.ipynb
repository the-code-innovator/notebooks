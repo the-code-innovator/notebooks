{
 "cells": [
  {
   "cell_type": "markdown",
   "metadata": {},
   "source": [
    "# Data Mining Concepts and Techniques"
   ]
  },
  {
   "cell_type": "markdown",
   "metadata": {},
   "source": [
    "## Chapter 2 : Getting to Know Your Data"
   ]
  },
  {
   "cell_type": "markdown",
   "metadata": {},
   "source": [
    "## Exercises - Page 80"
   ]
  },
  {
   "cell_type": "markdown",
   "metadata": {},
   "source": [
    "### 2.2 Suppose that the data for analysis includes the attribute age. The age values for the data tuples are (in increasing order) 13, 15, 16, 16, 19, 20, 20, 21, 22, 22, 25, 25, 25, 25, 30, 33, 33, 35, 35, 35, 35, 36, 40, 45, 46, 52, 70.\n",
    "* What is the mean of the data?\n",
    "* What is the median?\n",
    "* What is the mode of the data?\n",
    "* Comment on the data’s modality (i.e., bimodal, trimodal, etc.).\n",
    "* What is the midrange of the data?\n",
    "* Can you find (roughly) the first quartile (Q1) and the third quartile (Q3) of the data?\n",
    "* Give the five-number summary of the data.\n",
    "* Show a boxplot of the data.\n",
    "* How is a quantile–quantile plot different from a quantile plot?"
   ]
  },
  {
   "cell_type": "markdown",
   "metadata": {},
   "source": [
    "### Importing necessary Packages.\n",
    "* matplotlib for plotting\n",
    "* numpy for statistics\n",
    "* collections for multimodal calculation\n",
    "* itertools to iterate over lambda\n",
    "* stats for statistical analysis"
   ]
  },
  {
   "cell_type": "code",
   "execution_count": 1,
   "metadata": {},
   "outputs": [],
   "source": [
    "from matplotlib import pyplot\n",
    "import numpy\n",
    "import collections\n",
    "import itertools\n",
    "import math\n",
    "from scipy import stats\n",
    "from pandas import DataFrame"
   ]
  },
  {
   "cell_type": "markdown",
   "metadata": {},
   "source": [
    "* `age` is the list containing the ages."
   ]
  },
  {
   "cell_type": "code",
   "execution_count": 2,
   "metadata": {},
   "outputs": [
    {
     "data": {
      "text/html": [
       "<div>\n",
       "<style scoped>\n",
       "    .dataframe tbody tr th:only-of-type {\n",
       "        vertical-align: middle;\n",
       "    }\n",
       "\n",
       "    .dataframe tbody tr th {\n",
       "        vertical-align: top;\n",
       "    }\n",
       "\n",
       "    .dataframe thead th {\n",
       "        text-align: right;\n",
       "    }\n",
       "</style>\n",
       "<table border=\"1\" class=\"dataframe\">\n",
       "  <thead>\n",
       "    <tr style=\"text-align: right;\">\n",
       "      <th></th>\n",
       "      <th>age</th>\n",
       "    </tr>\n",
       "  </thead>\n",
       "  <tbody>\n",
       "    <tr>\n",
       "      <th>0</th>\n",
       "      <td>13</td>\n",
       "    </tr>\n",
       "    <tr>\n",
       "      <th>1</th>\n",
       "      <td>15</td>\n",
       "    </tr>\n",
       "    <tr>\n",
       "      <th>2</th>\n",
       "      <td>16</td>\n",
       "    </tr>\n",
       "    <tr>\n",
       "      <th>3</th>\n",
       "      <td>16</td>\n",
       "    </tr>\n",
       "    <tr>\n",
       "      <th>4</th>\n",
       "      <td>19</td>\n",
       "    </tr>\n",
       "    <tr>\n",
       "      <th>5</th>\n",
       "      <td>20</td>\n",
       "    </tr>\n",
       "    <tr>\n",
       "      <th>6</th>\n",
       "      <td>20</td>\n",
       "    </tr>\n",
       "    <tr>\n",
       "      <th>7</th>\n",
       "      <td>21</td>\n",
       "    </tr>\n",
       "    <tr>\n",
       "      <th>8</th>\n",
       "      <td>22</td>\n",
       "    </tr>\n",
       "    <tr>\n",
       "      <th>9</th>\n",
       "      <td>22</td>\n",
       "    </tr>\n",
       "    <tr>\n",
       "      <th>10</th>\n",
       "      <td>25</td>\n",
       "    </tr>\n",
       "    <tr>\n",
       "      <th>11</th>\n",
       "      <td>25</td>\n",
       "    </tr>\n",
       "    <tr>\n",
       "      <th>12</th>\n",
       "      <td>25</td>\n",
       "    </tr>\n",
       "    <tr>\n",
       "      <th>13</th>\n",
       "      <td>25</td>\n",
       "    </tr>\n",
       "    <tr>\n",
       "      <th>14</th>\n",
       "      <td>30</td>\n",
       "    </tr>\n",
       "    <tr>\n",
       "      <th>15</th>\n",
       "      <td>33</td>\n",
       "    </tr>\n",
       "    <tr>\n",
       "      <th>16</th>\n",
       "      <td>33</td>\n",
       "    </tr>\n",
       "    <tr>\n",
       "      <th>17</th>\n",
       "      <td>35</td>\n",
       "    </tr>\n",
       "    <tr>\n",
       "      <th>18</th>\n",
       "      <td>35</td>\n",
       "    </tr>\n",
       "    <tr>\n",
       "      <th>19</th>\n",
       "      <td>35</td>\n",
       "    </tr>\n",
       "    <tr>\n",
       "      <th>20</th>\n",
       "      <td>35</td>\n",
       "    </tr>\n",
       "    <tr>\n",
       "      <th>21</th>\n",
       "      <td>36</td>\n",
       "    </tr>\n",
       "    <tr>\n",
       "      <th>22</th>\n",
       "      <td>40</td>\n",
       "    </tr>\n",
       "    <tr>\n",
       "      <th>23</th>\n",
       "      <td>45</td>\n",
       "    </tr>\n",
       "    <tr>\n",
       "      <th>24</th>\n",
       "      <td>46</td>\n",
       "    </tr>\n",
       "    <tr>\n",
       "      <th>25</th>\n",
       "      <td>52</td>\n",
       "    </tr>\n",
       "    <tr>\n",
       "      <th>26</th>\n",
       "      <td>70</td>\n",
       "    </tr>\n",
       "  </tbody>\n",
       "</table>\n",
       "</div>"
      ],
      "text/plain": [
       "    age\n",
       "0    13\n",
       "1    15\n",
       "2    16\n",
       "3    16\n",
       "4    19\n",
       "5    20\n",
       "6    20\n",
       "7    21\n",
       "8    22\n",
       "9    22\n",
       "10   25\n",
       "11   25\n",
       "12   25\n",
       "13   25\n",
       "14   30\n",
       "15   33\n",
       "16   33\n",
       "17   35\n",
       "18   35\n",
       "19   35\n",
       "20   35\n",
       "21   36\n",
       "22   40\n",
       "23   45\n",
       "24   46\n",
       "25   52\n",
       "26   70"
      ]
     },
     "execution_count": 2,
     "metadata": {},
     "output_type": "execute_result"
    }
   ],
   "source": [
    "age = [13, 15, 16, 16, 19, 20, 20, 21, 22, 22, 25, 25, 25, 25, 30, 33, 33, 35, 35, 35, 35, 36, 40, 45, 46, 52, 70]\n",
    "age_df = DataFrame({\n",
    "    'age': age\n",
    "})\n",
    "age_df"
   ]
  },
  {
   "cell_type": "markdown",
   "metadata": {},
   "source": [
    "* `mean` for the data."
   ]
  },
  {
   "cell_type": "code",
   "execution_count": 3,
   "metadata": {},
   "outputs": [
    {
     "data": {
      "text/plain": [
       "29.962962962962962"
      ]
     },
     "execution_count": 3,
     "metadata": {},
     "output_type": "execute_result"
    }
   ],
   "source": [
    "numpy.mean(age_df['age'])"
   ]
  },
  {
   "cell_type": "markdown",
   "metadata": {},
   "source": [
    "* `median` for the data."
   ]
  },
  {
   "cell_type": "code",
   "execution_count": 4,
   "metadata": {},
   "outputs": [
    {
     "data": {
      "text/plain": [
       "25.0"
      ]
     },
     "execution_count": 4,
     "metadata": {},
     "output_type": "execute_result"
    }
   ],
   "source": [
    "numpy.median(age_df['age'])"
   ]
  },
  {
   "cell_type": "markdown",
   "metadata": {},
   "source": [
    "* `mode` for the data."
   ]
  },
  {
   "cell_type": "code",
   "execution_count": 5,
   "metadata": {},
   "outputs": [
    {
     "data": {
      "text/plain": [
       "[(25, 4), (35, 4)]"
      ]
     },
     "execution_count": 5,
     "metadata": {},
     "output_type": "execute_result"
    }
   ],
   "source": [
    "frequency = collections.Counter(age_df['age'])\n",
    "most_frequent = frequency.most_common()\n",
    "modes = list(itertools.takewhile(lambda x_frequency: x_frequency[1] == most_frequent[0][1], most_frequent))\n",
    "modes"
   ]
  },
  {
   "cell_type": "markdown",
   "metadata": {},
   "source": [
    "* `modality` of the data."
   ]
  },
  {
   "cell_type": "code",
   "execution_count": 6,
   "metadata": {},
   "outputs": [
    {
     "data": {
      "text/plain": [
       "2"
      ]
     },
     "execution_count": 6,
     "metadata": {},
     "output_type": "execute_result"
    }
   ],
   "source": [
    "modality = len(modes)\n",
    "modality"
   ]
  },
  {
   "cell_type": "markdown",
   "metadata": {},
   "source": [
    "* `midrange` and `inter quartile range` for the data."
   ]
  },
  {
   "cell_type": "code",
   "execution_count": 7,
   "metadata": {},
   "outputs": [
    {
     "data": {
      "text/plain": [
       "(41.5, 14.5)"
      ]
     },
     "execution_count": 7,
     "metadata": {},
     "output_type": "execute_result"
    }
   ],
   "source": [
    "midrange = (min(age_df['age']) + max(age_df['age'])) / 2\n",
    "quartiles = numpy.percentile(age_df['age'], [25, 50, 75])\n",
    "inter_quartile_range = quartiles[2] - quartiles[0]\n",
    "(midrange, inter_quartile_range)"
   ]
  },
  {
   "cell_type": "markdown",
   "metadata": {},
   "source": [
    "* `q1` & `q3` for the data."
   ]
  },
  {
   "cell_type": "code",
   "execution_count": 8,
   "metadata": {},
   "outputs": [
    {
     "data": {
      "text/plain": [
       "(20.5, 35.0)"
      ]
     },
     "execution_count": 8,
     "metadata": {},
     "output_type": "execute_result"
    }
   ],
   "source": [
    "(quartiles[0], quartiles[2])"
   ]
  },
  {
   "cell_type": "markdown",
   "metadata": {},
   "source": [
    "* `five point summary` presentation for the data."
   ]
  },
  {
   "cell_type": "code",
   "execution_count": 9,
   "metadata": {},
   "outputs": [
    {
     "data": {
      "text/plain": [
       "(13, 20.5, 25.0, 35.0, 70)"
      ]
     },
     "execution_count": 9,
     "metadata": {},
     "output_type": "execute_result"
    }
   ],
   "source": [
    "(min(age_df['age']), quartiles[0], numpy.median(age_df['age']), quartiles[2], max(age_df['age']))"
   ]
  },
  {
   "cell_type": "markdown",
   "metadata": {},
   "source": [
    "* a quick `boxplot` for the data."
   ]
  },
  {
   "cell_type": "code",
   "execution_count": 10,
   "metadata": {},
   "outputs": [
    {
     "data": {
      "text/plain": [
       "<matplotlib.axes._subplots.AxesSubplot at 0x11444d390>"
      ]
     },
     "execution_count": 10,
     "metadata": {},
     "output_type": "execute_result"
    },
    {
     "data": {
      "image/png": "[encoded data removed]",
      "text/plain": [
       "<Figure size 432x432 with 1 Axes>"
      ]
     },
     "metadata": {},
     "output_type": "display_data"
    }
   ],
   "source": [
    "age_df.boxplot(column = ['age'], grid = False, figsize = (6, 6))"
   ]
  },
  {
   "cell_type": "markdown",
   "metadata": {},
   "source": [
    "* `qqplot` for the data."
   ]
  },
  {
   "cell_type": "code",
   "execution_count": 11,
   "metadata": {},
   "outputs": [
    {
     "data": {
      "text/plain": [
       "((array([-1.95408825, -1.54243759, -1.29287772, -1.10504657, -0.94977721,\n",
       "         -0.81458215, -0.69285972, -0.5806392 , -0.47530485, -0.37500632,\n",
       "         -0.27835244, -0.18423656, -0.09172826,  0.        ,  0.09172826,\n",
       "          0.18423656,  0.27835244,  0.37500632,  0.47530485,  0.5806392 ,\n",
       "          0.69285972,  0.81458215,  0.94977721,  1.10504657,  1.29287772,\n",
       "          1.54243759,  1.95408825]),\n",
       "  array([13, 15, 16, 16, 19, 20, 20, 21, 22, 22, 25, 25, 25, 25, 30, 33, 33,\n",
       "         35, 35, 35, 35, 36, 40, 45, 46, 52, 70])),\n",
       " (12.793238117173717, 29.96296296296296, 0.9481096505823599))"
      ]
     },
     "execution_count": 11,
     "metadata": {},
     "output_type": "execute_result"
    },
    {
     "data": {
      "image/png": "[encoded data removed]",
      "text/plain": [
       "<Figure size 432x288 with 1 Axes>"
      ]
     },
     "metadata": {},
     "output_type": "display_data"
    }
   ],
   "source": [
    "stats.probplot(age_df['age'], dist = \"norm\", plot = pyplot, rvalue = True)"
   ]
  },
  {
   "cell_type": "markdown",
   "metadata": {},
   "source": [
    "### 2.3 Suppose that the values for a given set of data are grouped into intervals. The intervals and corresponding frequencies are as follows:\n",
    "|from|to|frequency|\n",
    "|:--|--:|--:|\n",
    "|1|5|200|\n",
    "|6|15|450|\n",
    "|16|20|300|\n",
    "|21|50|1500|\n",
    "|51|80|700|\n",
    "|81|110|44|\n",
    "* Compute an approximate median value for the data."
   ]
  },
  {
   "cell_type": "markdown",
   "metadata": {},
   "source": [
    "* Constructing the data.\n",
    "* Appending the `mean` of each range in the data.\n",
    "* Creating a new `list` for the median.\n",
    "* Calculating the `median` from the list of `median` values of ranged groups."
   ]
  },
  {
   "cell_type": "code",
   "execution_count": 12,
   "metadata": {},
   "outputs": [
    {
     "data": {
      "text/plain": [
       "35.5"
      ]
     },
     "execution_count": 12,
     "metadata": {},
     "output_type": "execute_result"
    }
   ],
   "source": [
    "age_dist = [\n",
    "    [1, 5, 200],\n",
    "    [6, 15, 450],\n",
    "    [16, 20, 300],\n",
    "    [21, 50, 1500],\n",
    "    [51, 80, 700],\n",
    "    [81, 110, 44]\n",
    "]\n",
    "for i in range(0, len(age_dist)):\n",
    "    age_dist[i].append(numpy.mean(age_dist[i][0:2]))\n",
    "median_list = []\n",
    "for i in range(0, len(age_dist)):\n",
    "    count = age_dist[i][2]\n",
    "    for j in range(0, int(count)):\n",
    "        value = age_dist[i][3]\n",
    "        median_list.append(value)\n",
    "median_list = sorted(median_list)\n",
    "numpy.median(median_list)"
   ]
  },
  {
   "cell_type": "markdown",
   "metadata": {},
   "source": [
    "* Creating arrays for the data.\n",
    "* Creating a DataFrame for the data.\n",
    "* calling the `numpy.median()` for the data frame."
   ]
  },
  {
   "cell_type": "code",
   "execution_count": 13,
   "metadata": {},
   "outputs": [
    {
     "data": {
      "text/plain": [
       "47.0"
      ]
     },
     "execution_count": 13,
     "metadata": {},
     "output_type": "execute_result"
    }
   ],
   "source": [
    "from_array = [1, 6, 16, 21, 51, 81]\n",
    "to_array = [5, 15, 20, 50, 80, 110]\n",
    "frequency_array = [200, 450, 300, 1500, 700, 44]\n",
    "frequency_df = DataFrame({\n",
    "    'from': from_array,\n",
    "    'to': to_array,\n",
    "    'frequency': frequency_array,\n",
    "    'mean': [(from_array[i] + to_array[i]) / 2 for i in range(0, len(frequency_array))]\n",
    "})\n",
    "numpy.median(frequency_df)"
   ]
  },
  {
   "cell_type": "markdown",
   "metadata": {},
   "source": [
    "### 2.4 Suppose that a hospital tested the age and body fat data for 18 randomly selected adults with the following results:\n",
    "|age|fat percentage|\n",
    "|--:|--:|\n",
    "|23|9.5|\n",
    "|23|26.5|\n",
    "|27|7.8|\n",
    "|27|17.8|\n",
    "|39|31.4|\n",
    "|41|25.9|\n",
    "|47|27.4|\n",
    "|49|27.2|\n",
    "|50|31.2|\n",
    "|52|34.6|\n",
    "|54|42.5|\n",
    "|54|28.8|\n",
    "|56|33.4|\n",
    "|57|30.2|\n",
    "|58|34.1|\n",
    "|58|32.9|\n",
    "|60|41.2|\n",
    "|61|35.7|\n",
    "* Calculate the mean, median, and standard deviation of age and fat percentage.\n",
    "* Draw the boxplots for age and fat percentage.\n",
    "* Draw a scatter plot and a q-q plot based on these two variables."
   ]
  },
  {
   "cell_type": "markdown",
   "metadata": {},
   "source": [
    "* Constructing the dataset."
   ]
  },
  {
   "cell_type": "code",
   "execution_count": 14,
   "metadata": {},
   "outputs": [],
   "source": [
    "hospital_ds = [[23, 9.5], [23, 26.5], [27, 7.8], [27, 17.8], [39, 31.4], [41, 25.9], [47, 27.4], [49, 27.2], [50, 31.2], [52, 34.6], [54, 42.5], [54, 28.8], [56, 33.4], [57, 30.2], [58, 34.1], [58, 32.9], [60, 41.2], [61, 35.7]]"
   ]
  },
  {
   "cell_type": "code",
   "execution_count": 15,
   "metadata": {},
   "outputs": [],
   "source": [
    "hospital_df = DataFrame({\n",
    "    'age': [hospital_ds[i][0] for i in range(0, len(hospital_ds))],\n",
    "    'fat (%)': [hospital_ds[i][1] for i in range(0, len(hospital_ds))]\n",
    "})"
   ]
  },
  {
   "cell_type": "markdown",
   "metadata": {},
   "source": [
    "* `mean` , `median`, `stddev` of age."
   ]
  },
  {
   "cell_type": "code",
   "execution_count": 16,
   "metadata": {},
   "outputs": [
    {
     "data": {
      "text/plain": [
       "(46.44444444444444, 51.0, 12.846193652519203)"
      ]
     },
     "execution_count": 16,
     "metadata": {},
     "output_type": "execute_result"
    }
   ],
   "source": [
    "(numpy.mean(hospital_df['age']), numpy.median(hospital_df['age']), numpy.std(hospital_df['age']))"
   ]
  },
  {
   "cell_type": "markdown",
   "metadata": {},
   "source": [
    "* `mean` , `median`, `stddev` of fat (%)."
   ]
  },
  {
   "cell_type": "code",
   "execution_count": 17,
   "metadata": {},
   "outputs": [
    {
     "data": {
      "text/plain": [
       "(28.783333333333328, 30.7, 8.993655170915401)"
      ]
     },
     "execution_count": 17,
     "metadata": {},
     "output_type": "execute_result"
    }
   ],
   "source": [
    "(numpy.mean(hospital_df['fat (%)']), numpy.median(hospital_df['fat (%)']), numpy.std(hospital_df['fat (%)']))"
   ]
  },
  {
   "cell_type": "markdown",
   "metadata": {},
   "source": [
    "* `boxplot` for both features."
   ]
  },
  {
   "cell_type": "code",
   "execution_count": 18,
   "metadata": {},
   "outputs": [
    {
     "data": {
      "text/plain": [
       "<matplotlib.axes._subplots.AxesSubplot at 0x1143e5978>"
      ]
     },
     "execution_count": 18,
     "metadata": {},
     "output_type": "execute_result"
    },
    {
     "data": {
      "image/png": "[encoded data removed]",
      "text/plain": [
       "<Figure size 432x432 with 1 Axes>"
      ]
     },
     "metadata": {},
     "output_type": "display_data"
    }
   ],
   "source": [
    "hospital_df.boxplot(column = ['age', 'fat (%)'], grid = False, figsize = (6, 6))"
   ]
  },
  {
   "cell_type": "code",
   "execution_count": 19,
   "metadata": {},
   "outputs": [
    {
     "data": {
      "text/plain": [
       "<matplotlib.collections.PathCollection at 0x118c4e8d0>"
      ]
     },
     "execution_count": 19,
     "metadata": {},
     "output_type": "execute_result"
    },
    {
     "data": {
      "image/png": "[encoded data removed]",
      "text/plain": [
       "<Figure size 432x288 with 1 Axes>"
      ]
     },
     "metadata": {},
     "output_type": "display_data"
    }
   ],
   "source": [
    "pyplot.scatter(x = hospital_df['age'], y = hospital_df['fat (%)'])"
   ]
  },
  {
   "cell_type": "code",
   "execution_count": 20,
   "metadata": {},
   "outputs": [
    {
     "data": {
      "text/plain": [
       "((array([-1.77709673, -1.33087857, -1.05345661, -0.83977496, -0.6589352 ,\n",
       "         -0.49749478, -0.34812942, -0.20618578, -0.06829777,  0.06829777,\n",
       "          0.20618578,  0.34812942,  0.49749478,  0.6589352 ,  0.83977496,\n",
       "          1.05345661,  1.33087857,  1.77709673]),\n",
       "  array([23, 23, 27, 27, 39, 41, 47, 49, 50, 52, 54, 54, 56, 57, 58, 58, 60,\n",
       "         61])),\n",
       " (13.061650527283286, 46.44444444444444, 0.9340029609845907))"
      ]
     },
     "execution_count": 20,
     "metadata": {},
     "output_type": "execute_result"
    },
    {
     "data": {
      "image/png": "[encoded data removed]",
      "text/plain": [
       "<Figure size 432x288 with 1 Axes>"
      ]
     },
     "metadata": {},
     "output_type": "display_data"
    }
   ],
   "source": [
    "stats.probplot(hospital_df['age'], dist = \"norm\", plot = pyplot, rvalue = True)"
   ]
  },
  {
   "cell_type": "code",
   "execution_count": 21,
   "metadata": {},
   "outputs": [
    {
     "data": {
      "text/plain": [
       "((array([-1.77709673, -1.33087857, -1.05345661, -0.83977496, -0.6589352 ,\n",
       "         -0.49749478, -0.34812942, -0.20618578, -0.06829777,  0.06829777,\n",
       "          0.20618578,  0.34812942,  0.49749478,  0.6589352 ,  0.83977496,\n",
       "          1.05345661,  1.33087857,  1.77709673]),\n",
       "  array([ 7.8,  9.5, 17.8, 25.9, 26.5, 27.2, 27.4, 28.8, 30.2, 31.2, 31.4,\n",
       "         32.9, 33.4, 34.1, 34.6, 35.7, 41.2, 42.5])),\n",
       " (9.258731591079181, 28.783333333333328, 0.9456706707272206))"
      ]
     },
     "execution_count": 21,
     "metadata": {},
     "output_type": "execute_result"
    },
    {
     "data": {
      "image/png": "[encoded data removed]",
      "text/plain": [
       "<Figure size 432x288 with 1 Axes>"
      ]
     },
     "metadata": {},
     "output_type": "display_data"
    }
   ],
   "source": [
    "stats.probplot(hospital_df['fat (%)'], dist = \"norm\", plot = pyplot, rvalue = True)"
   ]
  },
  {
   "cell_type": "markdown",
   "metadata": {},
   "source": [
    "### 2.6 Given two objects represented by the tuples (22, 1, 42, 10) and (20, 0, 36, 8):\n",
    "* Compute the Euclidean distance between the two objects.\n",
    "* Compute the Manhattan distance between the two objects.\n",
    "* Compute the Minkowski distance between the two objects, using q = 3. (d) Compute the supremum distance between the two objects."
   ]
  },
  {
   "cell_type": "markdown",
   "metadata": {},
   "source": [
    "* defining functions for `euclidean`, `manhattan`, `minkowski` distances."
   ]
  },
  {
   "cell_type": "code",
   "execution_count": 22,
   "metadata": {},
   "outputs": [],
   "source": [
    "def euclidean(input1, input2):\n",
    "    if len(input1) == len(input2):\n",
    "        return math.sqrt(sum([abs(input1[i] - input2[i])**2 for i in range(0, len(input1))]))\n",
    "def manhattan(input1, input2):\n",
    "    if len(input1) == len(input2):\n",
    "        return sum([abs(input1[i] - input2[i]) for i in range(0, len(input1))])\n",
    "def supremum(input1, input2):\n",
    "    if len(input1) == len(input2):\n",
    "        return max([abs(input1[i] - input2[i]) for i in range(0, len(input1))])\n",
    "def minkowski(input1, input2, k):\n",
    "    if len(input1) == len(input2):\n",
    "        return sum([abs(input1[i] - input2[i])**k for i in range(0, len(input1))])**(1.0/k)"
   ]
  },
  {
   "cell_type": "markdown",
   "metadata": {},
   "source": [
    "* `euclidean` for `(22, 1, 42, 10), (20, 0, 36, 8)`."
   ]
  },
  {
   "cell_type": "code",
   "execution_count": 23,
   "metadata": {},
   "outputs": [
    {
     "data": {
      "text/plain": [
       "6.708203932499369"
      ]
     },
     "execution_count": 23,
     "metadata": {},
     "output_type": "execute_result"
    }
   ],
   "source": [
    "euclidean((22, 1, 42, 10), (20, 0, 36, 8))"
   ]
  },
  {
   "cell_type": "markdown",
   "metadata": {},
   "source": [
    "* `manhattan` for `(22, 1, 42, 10), (20, 0, 36, 8)`."
   ]
  },
  {
   "cell_type": "code",
   "execution_count": 24,
   "metadata": {},
   "outputs": [
    {
     "data": {
      "text/plain": [
       "11"
      ]
     },
     "execution_count": 24,
     "metadata": {},
     "output_type": "execute_result"
    }
   ],
   "source": [
    "manhattan((22, 1, 42, 10), (20, 0, 36, 8))"
   ]
  },
  {
   "cell_type": "markdown",
   "metadata": {},
   "source": [
    "* `supremum` for `(22, 1, 42, 10), (20, 0, 36, 8)`."
   ]
  },
  {
   "cell_type": "code",
   "execution_count": 25,
   "metadata": {},
   "outputs": [
    {
     "data": {
      "text/plain": [
       "6"
      ]
     },
     "execution_count": 25,
     "metadata": {},
     "output_type": "execute_result"
    }
   ],
   "source": [
    "supremum((22, 1, 42, 10), (20, 0, 36, 8))"
   ]
  },
  {
   "cell_type": "markdown",
   "metadata": {},
   "source": [
    "* `minkowski` for `(22, 1, 42, 10), (20, 0, 36, 8)` and `k = 3`."
   ]
  },
  {
   "cell_type": "code",
   "execution_count": 26,
   "metadata": {},
   "outputs": [
    {
     "data": {
      "text/plain": [
       "6.153449493663682"
      ]
     },
     "execution_count": 26,
     "metadata": {},
     "output_type": "execute_result"
    }
   ],
   "source": [
    "minkowski((22, 1, 42, 10), (20, 0, 36, 8), 3)"
   ]
  },
  {
   "cell_type": "markdown",
   "metadata": {},
   "source": [
    "### 2.8 It is important to define or select similarity measures in data analysis. However, there is no commonly accepted subjective similarity measure. Results can vary depending on the similarity measures used. Nonetheless, seemingly different similarity measures may be equivalent after some transformation.\n",
    "* Suppose we have the following 2-D data set:\n",
    "\n",
    "|X|A1|A2|\n",
    "|:-|-:|-:|\n",
    "|x1|1.5|1.7|\n",
    "|x2|2.0|1.9|\n",
    "|x3|1.6|1.8|\n",
    "|x4|1.2|1.5|\n",
    "|x5|1.5|1.0|\n",
    "\n",
    "* Consider the data as 2-D data points. Given a new data point, x = (1.4,1.6) as a query, rank the database points based on similarity with the query using Euclidean distance, Manhattan distance, supremum distance, and cosine similarity.\n",
    "* Normalize the data set to make the norm of each data point equal to 1. Use Euclidean distance on the transformed data to rank the data points."
   ]
  },
  {
   "cell_type": "code",
   "execution_count": 27,
   "metadata": {},
   "outputs": [],
   "source": [
    "points_ds = [[1, 1.5, 1.7], [2, 2.0, 1.9], [3, 1.6, 1.8], [4, 1.2, 1.5], [5, 1.5, 1.0]]"
   ]
  },
  {
   "cell_type": "code",
   "execution_count": 28,
   "metadata": {},
   "outputs": [],
   "source": [
    "points_df = DataFrame({\n",
    "    'x': [points_ds[i][0] for i in range(0, len(points_ds))],\n",
    "    'a1': [points_ds[i][1] for i in range(0, len(points_ds))],\n",
    "    'a2': [points_ds[i][2] for i in range(0, len(points_ds))]\n",
    "})"
   ]
  },
  {
   "cell_type": "code",
   "execution_count": 29,
   "metadata": {},
   "outputs": [],
   "source": [
    "point_list = [[points_df['a1'][i], points_df['a2'][i]] for i in range(0, len(points_df['x']))]"
   ]
  },
  {
   "cell_type": "code",
   "execution_count": 30,
   "metadata": {},
   "outputs": [],
   "source": [
    "def manhattan_list(point, point_list):\n",
    "    return [[i, manhattan(point_list[i], point)] for i in range(0, len(point_list))]\n",
    "def euclidean_list(point, point_list):\n",
    "    return [[i, euclidean(point_list[i], point)] for i in range(0, len(point_list))]\n",
    "def supremum_list(point, point_list):\n",
    "    return [[i, supremum(point_list[i], point)] for i in range(0, len(point_list))]"
   ]
  },
  {
   "cell_type": "code",
   "execution_count": 31,
   "metadata": {},
   "outputs": [],
   "source": [
    "data_point = [1.4, 1.6]"
   ]
  },
  {
   "cell_type": "code",
   "execution_count": 32,
   "metadata": {},
   "outputs": [
    {
     "data": {
      "text/plain": [
       "[[0, 0.19999999999999996],\n",
       " [3, 0.30000000000000004],\n",
       " [2, 0.40000000000000013],\n",
       " [4, 0.7000000000000002],\n",
       " [1, 0.8999999999999999]]"
      ]
     },
     "execution_count": 32,
     "metadata": {},
     "output_type": "execute_result"
    }
   ],
   "source": [
    "sorted(manhattan_list(data_point, point_list), key = lambda x: x[1])"
   ]
  },
  {
   "cell_type": "code",
   "execution_count": 33,
   "metadata": {
    "slideshow": {
     "slide_type": "-"
    }
   },
   "outputs": [
    {
     "data": {
      "text/plain": [
       "[[0, 0.14142135623730948],\n",
       " [3, 0.22360679774997896],\n",
       " [2, 0.28284271247461906],\n",
       " [4, 0.608276253029822],\n",
       " [1, 0.6708203932499369]]"
      ]
     },
     "execution_count": 33,
     "metadata": {},
     "output_type": "execute_result"
    }
   ],
   "source": [
    "sorted(euclidean_list(data_point, point_list), key = lambda x: x[1])"
   ]
  },
  {
   "cell_type": "code",
   "execution_count": 34,
   "metadata": {},
   "outputs": [
    {
     "data": {
      "text/plain": [
       "[[0, 0.10000000000000009],\n",
       " [3, 0.19999999999999996],\n",
       " [2, 0.20000000000000018],\n",
       " [1, 0.6000000000000001],\n",
       " [4, 0.6000000000000001]]"
      ]
     },
     "execution_count": 34,
     "metadata": {},
     "output_type": "execute_result"
    }
   ],
   "source": [
    "sorted(supremum_list(data_point, point_list), key = lambda x: x[1])"
   ]
  }
 ],
 "metadata": {
  "kernelspec": {
   "display_name": "Python [conda root]",
   "language": "python",
   "name": "conda-root-py"
  },
  "language_info": {
   "codemirror_mode": {
    "name": "ipython",
    "version": 3
   },
   "file_extension": ".py",
   "mimetype": "text/x-python",
   "name": "python",
   "nbconvert_exporter": "python",
   "pygments_lexer": "ipython3",
   "version": "3.6.5"
  }
 },
 "nbformat": 4,
 "nbformat_minor": 2
}
